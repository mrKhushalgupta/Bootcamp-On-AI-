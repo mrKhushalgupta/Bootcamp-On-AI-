{
 "cells": [
  {
   "cell_type": "code",
   "execution_count": 1,
   "id": "07c52ad2-cba0-4659-97fe-d23aa89fa60d",
   "metadata": {},
   "outputs": [
    {
     "name": "stdout",
     "output_type": "stream",
     "text": [
      "Requirement already satisfied: openpyxl in c:\\users\\mynam\\anaconda3\\lib\\site-packages (3.1.5)Note: you may need to restart the kernel to use updated packages.\n",
      "\n",
      "Requirement already satisfied: et-xmlfile in c:\\users\\mynam\\anaconda3\\lib\\site-packages (from openpyxl) (1.1.0)\n"
     ]
    }
   ],
   "source": [
    "pip install openpyxl"
   ]
  },
  {
   "cell_type": "code",
   "execution_count": 8,
   "id": "2f73ee34-3e01-4377-b303-338acda2a0c5",
   "metadata": {},
   "outputs": [
    {
     "name": "stdout",
     "output_type": "stream",
     "text": [
      "   StudentID  G1  G2  G3      Mjob     Fjob  age address  studytime  failures  \\\n",
      "0          1   6   2   2   teacher  at_home   21   rural          3         1   \n",
      "1          2  19  11  18    health  teacher   18   rural          1         1   \n",
      "2          3  14   7  19    health    other   20   urban          1         1   \n",
      "3          4  10   2   6  services   health   21   urban          3         1   \n",
      "4          5   7   0  19    health   health   18   rural          4         1   \n",
      "\n",
      "  schoolsup famsup paid activities nursery higher internet romantic  \n",
      "0        no    yes  yes        yes     yes    yes       no      yes  \n",
      "1        no     no   no         no     yes     no       no       no  \n",
      "2       yes    yes  yes         no      no     no      yes      yes  \n",
      "3       yes     no  yes         no     yes     no       no       no  \n",
      "4        no     no  yes         no     yes    yes      yes       no  \n"
     ]
    }
   ],
   "source": [
    "import pandas as pd\n",
    "file_path = \"C:/Users/mynam/Desktop/student_performance.xlsx\"\n",
    "dataset = pd.read_excel(file_path)\n",
    "print(dataset.head())"
   ]
  },
  {
   "cell_type": "code",
   "execution_count": 9,
   "id": "e9b59d08-500b-45dd-bcd1-f0a0b1061e61",
   "metadata": {},
   "outputs": [
    {
     "name": "stdout",
     "output_type": "stream",
     "text": [
      "    StudentID  G1  G2  G3     Mjob      Fjob  age address  studytime  \\\n",
      "95         96  11  15   0    other     other   15   rural          3   \n",
      "96         97   1   2  19  at_home   teacher   21   rural          3   \n",
      "97         98   0  19   0   health  services   15   rural          2   \n",
      "98         99  15   3   2   health   at_home   17   rural          4   \n",
      "99        100   4  18  17    other   teacher   19   rural          4   \n",
      "\n",
      "    failures schoolsup famsup paid activities nursery higher internet romantic  \n",
      "95         0       yes    yes  yes         no     yes     no       no       no  \n",
      "96         2        no    yes  yes         no      no     no      yes      yes  \n",
      "97         0       yes     no  yes         no      no    yes       no      yes  \n",
      "98         1       yes     no  yes        yes      no    yes      yes       no  \n",
      "99         2       yes    yes  yes        yes      no     no      yes      yes  \n"
     ]
    }
   ],
   "source": [
    "print(dataset.tail())"
   ]
  },
  {
   "cell_type": "code",
   "execution_count": 10,
   "id": "249e842f-2e94-4d57-af0b-8dc93228b223",
   "metadata": {},
   "outputs": [
    {
     "name": "stdout",
     "output_type": "stream",
     "text": [
      "statistical summary:\n",
      "         StudentID          G1          G2          G3    Mjob     Fjob  \\\n",
      "count   100.000000  100.000000  100.000000  100.000000     100      100   \n",
      "unique         NaN         NaN         NaN         NaN       5        5   \n",
      "top            NaN         NaN         NaN         NaN  health  teacher   \n",
      "freq           NaN         NaN         NaN         NaN      28       23   \n",
      "mean     50.500000    9.010000    8.710000    9.070000     NaN      NaN   \n",
      "std      29.011492    5.535003    6.107282    6.629068     NaN      NaN   \n",
      "min       1.000000    0.000000    0.000000    0.000000     NaN      NaN   \n",
      "25%      25.750000    4.750000    3.750000    2.000000     NaN      NaN   \n",
      "50%      50.500000    8.500000    8.000000    8.000000     NaN      NaN   \n",
      "75%      75.250000   14.000000   14.000000   15.000000     NaN      NaN   \n",
      "max     100.000000   19.000000   19.000000   19.000000     NaN      NaN   \n",
      "\n",
      "               age address  studytime    failures schoolsup famsup paid  \\\n",
      "count   100.000000     100  100.00000  100.000000       100    100  100   \n",
      "unique         NaN       2        NaN         NaN         2      2    2   \n",
      "top            NaN   rural        NaN         NaN       yes     no  yes   \n",
      "freq           NaN      54        NaN         NaN        52     53   56   \n",
      "mean     18.180000     NaN    2.21000    1.380000       NaN    NaN  NaN   \n",
      "std       1.940426     NaN    1.06643    1.080404       NaN    NaN  NaN   \n",
      "min      15.000000     NaN    1.00000    0.000000       NaN    NaN  NaN   \n",
      "25%      16.750000     NaN    1.00000    0.000000       NaN    NaN  NaN   \n",
      "50%      18.000000     NaN    2.00000    1.000000       NaN    NaN  NaN   \n",
      "75%      20.000000     NaN    3.00000    2.000000       NaN    NaN  NaN   \n",
      "max      21.000000     NaN    4.00000    3.000000       NaN    NaN  NaN   \n",
      "\n",
      "       activities nursery higher internet romantic  \n",
      "count         100     100    100      100      100  \n",
      "unique          2       2      2        2        2  \n",
      "top            no     yes    yes       no      yes  \n",
      "freq           54      57     54       54       57  \n",
      "mean          NaN     NaN    NaN      NaN      NaN  \n",
      "std           NaN     NaN    NaN      NaN      NaN  \n",
      "min           NaN     NaN    NaN      NaN      NaN  \n",
      "25%           NaN     NaN    NaN      NaN      NaN  \n",
      "50%           NaN     NaN    NaN      NaN      NaN  \n",
      "75%           NaN     NaN    NaN      NaN      NaN  \n",
      "max           NaN     NaN    NaN      NaN      NaN  \n"
     ]
    }
   ],
   "source": [
    "file_path = \"C:/Users/mynam/Desktop/student_performance.xlsx\"\n",
    "dataset = pd.read_excel(file_path)\n",
    "print(\"statistical summary:\")\n",
    "print(dataset.describe(include='all'))"
   ]
  },
  {
   "cell_type": "code",
   "execution_count": 11,
   "id": "8426f1c6-0453-4313-94bd-005562054e07",
   "metadata": {},
   "outputs": [
    {
     "name": "stdout",
     "output_type": "stream",
     "text": [
      "\n",
      "column Data Types:\n",
      "StudentID      int64\n",
      "G1             int64\n",
      "G2             int64\n",
      "G3             int64\n",
      "Mjob          object\n",
      "Fjob          object\n",
      "age            int64\n",
      "address       object\n",
      "studytime      int64\n",
      "failures       int64\n",
      "schoolsup     object\n",
      "famsup        object\n",
      "paid          object\n",
      "activities    object\n",
      "nursery       object\n",
      "higher        object\n",
      "internet      object\n",
      "romantic      object\n",
      "dtype: object\n"
     ]
    }
   ],
   "source": [
    "print(\"\\ncolumn Data Types:\")\n",
    "print (dataset.dtypes)"
   ]
  },
  {
   "cell_type": "code",
   "execution_count": 12,
   "id": "63634bc8-089b-4e1f-988f-9a89c6599d21",
   "metadata": {},
   "outputs": [
    {
     "name": "stdout",
     "output_type": "stream",
     "text": [
      "Number of rows with missing data: 0\n"
     ]
    }
   ],
   "source": [
    "import pandas as pd\n",
    "file_path = \"C:/Users/mynam/Desktop/student_performance.xlsx\"\n",
    "dataset = pd.read_excel(file_path)\n",
    "rows_with_missing_data = dataset.isnull().any(axis=1).sum()\n",
    "print(f\"Number of rows with missing data: {rows_with_missing_data}\")"
   ]
  }
 ],
 "metadata": {
  "kernelspec": {
   "display_name": "Python [conda env:base] *",
   "language": "python",
   "name": "conda-base-py"
  },
  "language_info": {
   "codemirror_mode": {
    "name": "ipython",
    "version": 3
   },
   "file_extension": ".py",
   "mimetype": "text/x-python",
   "name": "python",
   "nbconvert_exporter": "python",
   "pygments_lexer": "ipython3",
   "version": "3.12.7"
  }
 },
 "nbformat": 4,
 "nbformat_minor": 5
}
